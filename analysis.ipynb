{
 "cells": [
  {
   "cell_type": "code",
   "execution_count": 2,
   "metadata": {},
   "outputs": [],
   "source": [
    "import openmc\n",
    "import matplotlib.pyplot as plt\n",
    "import pandas as pd"
   ]
  },
  {
   "cell_type": "code",
   "execution_count": null,
   "metadata": {},
   "outputs": [],
   "source": [
    "sp = openmc.StatePoint('statepoint.2500.h5')\n",
    "t1 = sp.get_tally(name='跑兔腔中子谱 手动')\n",
    "t1_mean = t1.mean.ravel()\n",
    "t1_unc = t1.std_dev.ravel()\n",
    "\n",
    "t2 = sp.get_tally(name='跑兔腔中子谱 SHEM-361')\n",
    "t2_mean = t2.mean.ravel()\n",
    "t2_unc = t2.std_dev.ravel()\n",
    "\n",
    "#How to show plt in linux ?\n",
    "#How to slice energy or plot different colors for each energy\n",
    "\n",
    "fig, ax = plt.subplots()\n",
    "ax.step = matplotlib.(energies[:-1])"
   ]
  },
  {
   "cell_type": "code",
   "execution_count": null,
   "metadata": {},
   "outputs": [],
   "source": [
    "sp = openmc.StatePoint('statepoint.2500.h5')\n",
    "t1 = sp.get_tally(name='跑兔腔中子谱 手动')\n",
    "t1_mean = t1.mean.ravel()\n",
    "t1_unc = t1.std_dev.ravel()\n",
    "rrate = 0\n",
    "for i in range(len(t1_mean)):\n",
    "    rrate += t1_mean[i] if energies[i]>0.1e6 else 0 \n",
    "print('Fast Neutron rate:', rrate/t1_mean.sum()*100, '%')\n",
    "print('Average Energy:', np.array([t1_mean[i]*energies[i] for i in range(len(t1_mean))]).sum()/t1_mean.sum(), 'eV')\n",
    "\n",
    "t2 = sp.get_tally(name='跑兔腔中子谱 SHEM-361')\n",
    "t2_mean = t2.mean.ravel()\n",
    "t2_unc = t2.std_dev.ravel()\n",
    "\n",
    "fig, ax = plt.subplots()\n",
    "ax.step(energies[:-1], t1_mean/np.diff(energies), where='post', label='1000 group')\n",
    "ax.step(energies_shem[:-1], t2_mean/np.diff(energies_shem), where='post', label='SHEM-361')\n",
    "ax.set_xscale('log')\n",
    "ax.set_yscale('log')\n",
    "ax.set_xlabel('Energy [eV]')\n",
    "ax.set_ylabel('Flux [n-cm/eV-src]')\n",
    "ax.grid()\n",
    "ax.legend()\n",
    "plt.savefig('Energy-Flux')"
   ]
  }
 ],
 "metadata": {
  "kernelspec": {
   "display_name": "AI4Openmc",
   "language": "python",
   "name": "python3"
  },
  "language_info": {
   "codemirror_mode": {
    "name": "ipython",
    "version": 3
   },
   "file_extension": ".py",
   "mimetype": "text/x-python",
   "name": "python",
   "nbconvert_exporter": "python",
   "pygments_lexer": "ipython3",
   "version": "3.11.11"
  }
 },
 "nbformat": 4,
 "nbformat_minor": 2
}
