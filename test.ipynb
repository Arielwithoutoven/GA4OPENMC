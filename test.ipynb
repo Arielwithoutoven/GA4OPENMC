{
 "cells": [
  {
   "cell_type": "code",
   "execution_count": 1,
   "metadata": {},
   "outputs": [],
   "source": [
    "import openmc\n",
    "import matplotlib.pyplot as plt\n",
    "import pandas as pd\n",
    "import numpy as np"
   ]
  },
  {
   "cell_type": "code",
   "execution_count": 2,
   "metadata": {},
   "outputs": [],
   "source": [
    "with openmc.StatePoint(\"statepoint.2500.h5\") as sp:\n",
    "    t1 = sp.get_tally(name=\"跑兔腔中子谱 手动\")\n",
    "    t1_mean = t1.mean.ravel()\n",
    "    t1_unc = t1.std_dev.ravel()\n",
    "\n",
    "    t2 = sp.get_tally(name=\"跑兔腔中子谱 SHEM-361\")\n",
    "    t2_mean = t2.mean.ravel()\n",
    "    t2_unc = t2.std_dev.ravel()"
   ]
  },
  {
   "cell_type": "code",
   "execution_count": 8,
   "metadata": {},
   "outputs": [],
   "source": [
    "flux = t1.get_slice(scores=[\"flux\"])\n",
    "flux_var = t1_unc**2\n",
    "for filter in flux.filters:\n",
    "    if isinstance(filter, openmc.EnergyFilter):\n",
    "        energyFil = filter\n",
    "        break\n",
    "energies = energyFil.values\n",
    "mid_energies = np.sqrt(energies[:-1] * energies[1:])\n",
    "total_flux = np.sum(t1_mean)\n",
    "average_energy = np.sum(t1_mean * mid_energies) / total_flux\n",
    "variance = np.sum((mid_energies - average_energy) ** 2 * flux_var) / total_flux**2"
   ]
  },
  {
   "cell_type": "code",
   "execution_count": 10,
   "metadata": {},
   "outputs": [
    {
     "name": "stdout",
     "output_type": "stream",
     "text": [
      "中子总通量: 0.00911459957960412\n",
      "平均中子能量: 1114260.11 ± 3921.66 eV\n",
      "相对误差: 0.35%\n"
     ]
    }
   ],
   "source": [
    "print(f\"中子总通量: {total_flux}\")\n",
    "print(f\"平均中子能量: {average_energy:.2f} ± {np.sqrt(variance):.2f} eV\")\n",
    "print(f\"相对误差: {np.sqrt(variance)/average_energy*100:.2f}%\")"
   ]
  },
  {
   "cell_type": "code",
   "execution_count": null,
   "metadata": {},
   "outputs": [],
   "source": [
    "sp = openmc.StatePoint('statepoint.2500.h5')\n",
    "t1 = sp.get_tally(name='跑兔腔中子谱 手动')\n",
    "t1_mean = t1.mean.ravel()\n",
    "t1_unc = t1.std_dev.ravel()\n",
    "rrate = sp.get_tally()\n",
    "for i in range(len(t1_mean)):\n",
    "    rrate += t1_mean[i] if energies[i]>0.1e6 else 0 \n",
    "print('Fast Neutron rate:', rrate/t1_mean.sum()*100, '%')\n",
    "print('Average Energy:', np.array([t1_mean[i]*energies[i] for i in range(len(t1_mean))]).sum()/t1_mean.sum(), 'eV')\n",
    "\n",
    "t2 = sp.get_tally(name='跑兔腔中子谱 SHEM-361')\n",
    "t2_mean = t2.mean.ravel()\n",
    "t2_unc = t2.std_dev.ravel()\n",
    "\n",
    "fig, ax = plt.subplots()\n",
    "ax.step(energies[:-1], t1_mean/np.diff(energies), where='post', label='1000 group')\n",
    "ax.step(energies_shem[:-1], t2_mean/np.diff(energies_shem), where='post', label='SHEM-361')\n",
    "ax.set_xscale('log')\n",
    "ax.set_yscale('log')\n",
    "ax.set_xlabel('Energy [eV]')\n",
    "ax.set_ylabel('Flux [n-cm/eV-src]')\n",
    "ax.grid()\n",
    "ax.legend()\n",
    "plt.savefig('Energy-Flux')"
   ]
  },
  {
   "cell_type": "code",
   "execution_count": 13,
   "metadata": {},
   "outputs": [
    {
     "data": {
      "text/plain": [
       "list"
      ]
     },
     "execution_count": 13,
     "metadata": {},
     "output_type": "execute_result"
    }
   ],
   "source": [
    "import json\n",
    "obj = [1, 2]\n",
    "x = json.dumps(obj)\n",
    "x\n",
    "y = json.loads(x)\n",
    "type(y)"
   ]
  },
  {
   "cell_type": "code",
   "execution_count": null,
   "metadata": {},
   "outputs": [],
   "source": []
  }
 ],
 "metadata": {
  "kernelspec": {
   "display_name": "AI4Openmc",
   "language": "python",
   "name": "python3"
  },
  "language_info": {
   "codemirror_mode": {
    "name": "ipython",
    "version": 3
   },
   "file_extension": ".py",
   "mimetype": "text/x-python",
   "name": "python",
   "nbconvert_exporter": "python",
   "pygments_lexer": "ipython3",
   "version": "3.11.11"
  }
 },
 "nbformat": 4,
 "nbformat_minor": 2
}
